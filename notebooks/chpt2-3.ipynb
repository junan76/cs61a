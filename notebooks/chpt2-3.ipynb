{
 "cells": [
  {
   "cell_type": "markdown",
   "metadata": {},
   "source": [
    "##  2.3.6 Trees"
   ]
  },
  {
   "cell_type": "code",
   "execution_count": 7,
   "metadata": {},
   "outputs": [],
   "source": [
    "def tree(root_label, branches=[]):\n",
    "    \"\"\"\n",
    "    Construct a tree using root and branches.\n",
    "    \"\"\"\n",
    "    for branch in branches:\n",
    "        assert is_tree(branch)\n",
    "    return [root_label] + branches\n",
    "\n",
    "def label(t):\n",
    "    \"\"\"\n",
    "    Get the root label of a tree.\n",
    "    \"\"\"\n",
    "    return t[0]\n",
    "\n",
    "def branches(t):\n",
    "    \"\"\"\n",
    "    Get the branches of a tree.\n",
    "    \"\"\"\n",
    "    return t[1:]\n",
    "\n",
    "def is_tree(t):\n",
    "    \"\"\"\n",
    "    Check if t is a tree.\n",
    "    \"\"\"\n",
    "    if type(t) != list or len(t) < 1:\n",
    "        return False\n",
    "    for branch in branches(t):\n",
    "        if not is_tree(branch):\n",
    "            return False\n",
    "    return True\n",
    "\n",
    "def is_leaf(t):\n",
    "    \"\"\"\n",
    "    Check if t is a leaf branch.\n",
    "    \"\"\"\n",
    "    return not branches(t)"
   ]
  },
  {
   "cell_type": "code",
   "execution_count": 26,
   "metadata": {},
   "outputs": [],
   "source": [
    "def partition_tree(n, m):\n",
    "    if n == 0:\n",
    "        return tree(True)\n",
    "    elif n < 0 or m == 0:\n",
    "        return tree(False)\n",
    "    else:\n",
    "        left = partition_tree(n - m, m)\n",
    "        right = partition_tree(n, m - 1)\n",
    "        return tree(m, [left, right])\n",
    "\n",
    "def print_partition_tree(t, partitions=[]):\n",
    "    if is_leaf(t):\n",
    "        if label(t):\n",
    "            print(' + '.join(partitions))\n",
    "    else:\n",
    "        left, right = branches(t)\n",
    "        m = str(label(t))\n",
    "        print_partition_tree(left, partitions + [m])\n",
    "        print_partition_tree(right, partitions)"
   ]
  },
  {
   "cell_type": "code",
   "execution_count": 27,
   "metadata": {},
   "outputs": [
    {
     "name": "stdout",
     "output_type": "stream",
     "text": [
      "4 + 2\n",
      "4 + 1 + 1\n",
      "3 + 3\n",
      "3 + 2 + 1\n",
      "3 + 1 + 1 + 1\n",
      "2 + 2 + 2\n",
      "2 + 2 + 1 + 1\n",
      "2 + 1 + 1 + 1 + 1\n",
      "1 + 1 + 1 + 1 + 1 + 1\n"
     ]
    }
   ],
   "source": [
    "print_partition_tree(partition_tree(6, 4))"
   ]
  },
  {
   "cell_type": "code",
   "execution_count": null,
   "metadata": {},
   "outputs": [],
   "source": []
  }
 ],
 "metadata": {
  "kernelspec": {
   "display_name": "py312",
   "language": "python",
   "name": "python3"
  },
  "language_info": {
   "codemirror_mode": {
    "name": "ipython",
    "version": 3
   },
   "file_extension": ".py",
   "mimetype": "text/x-python",
   "name": "python",
   "nbconvert_exporter": "python",
   "pygments_lexer": "ipython3",
   "version": "3.12.2"
  }
 },
 "nbformat": 4,
 "nbformat_minor": 2
}
