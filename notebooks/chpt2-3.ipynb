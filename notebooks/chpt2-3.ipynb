{
 "cells": [
  {
   "cell_type": "markdown",
   "metadata": {},
   "source": [
    "##  2.3.6 Trees"
   ]
  },
  {
   "cell_type": "code",
   "execution_count": 81,
   "metadata": {},
   "outputs": [],
   "source": [
    "def tree(root_label, branches=[]):\n",
    "    \"\"\"\n",
    "    Construct a tree using root and branches.\n",
    "    \"\"\"\n",
    "    for branch in branches:\n",
    "        assert is_tree(branch)\n",
    "    return [root_label] + branches\n",
    "\n",
    "def label(t):\n",
    "    \"\"\"\n",
    "    Get the root label of a tree.\n",
    "    \"\"\"\n",
    "    return t[0]\n",
    "\n",
    "def branches(t):\n",
    "    \"\"\"\n",
    "    Get the branches of a tree.\n",
    "    \"\"\"\n",
    "    return t[1:]\n",
    "\n",
    "def is_tree(t):\n",
    "    \"\"\"\n",
    "    Check if t is a tree.\n",
    "    \"\"\"\n",
    "    if type(t) != list or len(t) < 1:\n",
    "        return False\n",
    "    for branch in branches(t):\n",
    "        if not is_tree(branch):\n",
    "            return False\n",
    "    return True\n",
    "\n",
    "def is_leaf(t):\n",
    "    \"\"\"\n",
    "    Check if t is a leaf branch.\n",
    "    \"\"\"\n",
    "    return not branches(t)"
   ]
  },
  {
   "cell_type": "code",
   "execution_count": 82,
   "metadata": {},
   "outputs": [],
   "source": [
    "def partition_tree(n, m):\n",
    "    if n == 0:\n",
    "        return tree(True)\n",
    "    elif n < 0 or m == 0:\n",
    "        return tree(False)\n",
    "    else:\n",
    "        left = partition_tree(n - m, m)\n",
    "        right = partition_tree(n, m - 1)\n",
    "        return tree(m, [left, right])\n",
    "\n",
    "def print_partition_tree(t, partition=[]):\n",
    "    if is_leaf(t):\n",
    "        if label(t):\n",
    "            print(' + '.join(partition))\n",
    "    else:\n",
    "        left, right = branches(t)\n",
    "        m = str(label(t))\n",
    "        print_partition_tree(left, partition + [m])\n",
    "        print_partition_tree(right, partition)"
   ]
  },
  {
   "cell_type": "code",
   "execution_count": 83,
   "metadata": {},
   "outputs": [
    {
     "name": "stdout",
     "output_type": "stream",
     "text": [
      "4 + 2\n",
      "4 + 1 + 1\n",
      "3 + 3\n",
      "3 + 2 + 1\n",
      "3 + 1 + 1 + 1\n",
      "2 + 2 + 2\n",
      "2 + 2 + 1 + 1\n",
      "2 + 1 + 1 + 1 + 1\n",
      "1 + 1 + 1 + 1 + 1 + 1\n"
     ]
    }
   ],
   "source": [
    "print_partition_tree(partition_tree(6, 4))"
   ]
  },
  {
   "cell_type": "markdown",
   "metadata": {},
   "source": [
    "## 2.3.7 Linked Lists"
   ]
  },
  {
   "cell_type": "code",
   "execution_count": 84,
   "metadata": {},
   "outputs": [],
   "source": [
    "# Special linked list which is empty\n",
    "empty = 'empty'\n",
    "\n",
    "def is_link(s):\n",
    "    if s == empty:\n",
    "        return True\n",
    "    if type(s) != list or len(s) != 2:\n",
    "        return False\n",
    "    return is_link(s[1])\n",
    "\n",
    "def link(first, rest):\n",
    "    assert is_link(rest)\n",
    "    return [first, rest]\n",
    "\n",
    "def first(s):\n",
    "    assert is_link(s)\n",
    "    assert s != empty\n",
    "    return s[0]\n",
    "\n",
    "def rest(s):\n",
    "    assert is_link(s)\n",
    "    assert s != empty\n",
    "    return s[1]"
   ]
  },
  {
   "cell_type": "code",
   "execution_count": 85,
   "metadata": {},
   "outputs": [
    {
     "data": {
      "text/plain": [
       "[1, [2, [3, [4, 'empty']]]]"
      ]
     },
     "execution_count": 85,
     "metadata": {},
     "output_type": "execute_result"
    }
   ],
   "source": [
    "four = link(1, link(2, link(3, link(4, empty))))\n",
    "four"
   ]
  },
  {
   "cell_type": "code",
   "execution_count": 86,
   "metadata": {},
   "outputs": [
    {
     "data": {
      "text/plain": [
       "1"
      ]
     },
     "execution_count": 86,
     "metadata": {},
     "output_type": "execute_result"
    }
   ],
   "source": [
    "first(four)"
   ]
  },
  {
   "cell_type": "code",
   "execution_count": 87,
   "metadata": {},
   "outputs": [
    {
     "data": {
      "text/plain": [
       "[2, [3, [4, 'empty']]]"
      ]
     },
     "execution_count": 87,
     "metadata": {},
     "output_type": "execute_result"
    }
   ],
   "source": [
    "rest(four)"
   ]
  },
  {
   "cell_type": "code",
   "execution_count": 88,
   "metadata": {},
   "outputs": [],
   "source": [
    "def len_link(s):\n",
    "    assert is_link(s)\n",
    "\n",
    "    length = 0\n",
    "    while s != empty:\n",
    "        s, length = rest(s), length + 1\n",
    "    return length\n",
    "\n",
    "def getitem_link(s, i):\n",
    "    while i > 0 and s != empty:\n",
    "        s, i = rest(s), i - 1\n",
    "    return s"
   ]
  },
  {
   "cell_type": "code",
   "execution_count": 89,
   "metadata": {},
   "outputs": [
    {
     "data": {
      "text/plain": [
       "4"
      ]
     },
     "execution_count": 89,
     "metadata": {},
     "output_type": "execute_result"
    }
   ],
   "source": [
    "len_link(four)"
   ]
  },
  {
   "cell_type": "code",
   "execution_count": 90,
   "metadata": {},
   "outputs": [
    {
     "data": {
      "text/plain": [
       "'empty'"
      ]
     },
     "execution_count": 90,
     "metadata": {},
     "output_type": "execute_result"
    }
   ],
   "source": [
    "getitem_link(four, 5)"
   ]
  },
  {
   "cell_type": "code",
   "execution_count": 91,
   "metadata": {},
   "outputs": [],
   "source": [
    "def extend_link(s, t):\n",
    "    assert is_link(s) and is_link(t)\n",
    "\n",
    "    if s == empty:\n",
    "        return t\n",
    "    \n",
    "    return link(first(s), extend_link(rest(s), t))\n",
    "\n",
    "def apply_to_all_link(f, s):\n",
    "    assert is_link(s)\n",
    "\n",
    "    if s == empty:\n",
    "        return empty\n",
    "    \n",
    "    return link(f(first(s)), apply_to_all_link(f, rest(s)))\n",
    "\n",
    "def keep_if_link(f, s):\n",
    "    assert is_link(s)\n",
    "\n",
    "    if s == empty:\n",
    "        return empty\n",
    "    \n",
    "    kept = f(first(s))\n",
    "    if kept:\n",
    "        return link(first(s), keep_if_link(f, rest(s)))\n",
    "    else:\n",
    "        return keep_if_link(f, rest(s))"
   ]
  },
  {
   "cell_type": "code",
   "execution_count": 92,
   "metadata": {},
   "outputs": [
    {
     "data": {
      "text/plain": [
       "[1, [4, [9, [16, 'empty']]]]"
      ]
     },
     "execution_count": 92,
     "metadata": {},
     "output_type": "execute_result"
    }
   ],
   "source": [
    "apply_to_all_link(lambda x: x ** 2, four)"
   ]
  },
  {
   "cell_type": "code",
   "execution_count": 93,
   "metadata": {},
   "outputs": [
    {
     "data": {
      "text/plain": [
       "[2, [4, 'empty']]"
      ]
     },
     "execution_count": 93,
     "metadata": {},
     "output_type": "execute_result"
    }
   ],
   "source": [
    "keep_if_link(lambda x: x % 2 == 0, four)"
   ]
  },
  {
   "cell_type": "code",
   "execution_count": 94,
   "metadata": {},
   "outputs": [],
   "source": [
    "def join_link(s, seperator):\n",
    "    assert is_link(s)\n",
    "\n",
    "    if s == empty:\n",
    "        return ''\n",
    "    elif rest(s) == empty:\n",
    "        return str(first(s))\n",
    "    else:\n",
    "        return str(first(s)) + seperator + join_link(rest(s), seperator)"
   ]
  },
  {
   "cell_type": "code",
   "execution_count": 95,
   "metadata": {},
   "outputs": [
    {
     "data": {
      "text/plain": [
       "'1#2#3#4'"
      ]
     },
     "execution_count": 95,
     "metadata": {},
     "output_type": "execute_result"
    }
   ],
   "source": [
    "join_link(four, \"#\")"
   ]
  },
  {
   "cell_type": "code",
   "execution_count": 96,
   "metadata": {},
   "outputs": [],
   "source": [
    "def partition_link(n, m):\n",
    "    if n == 0:\n",
    "        return link(empty, empty)\n",
    "    elif n < 0 or m == 0:\n",
    "        return empty\n",
    "    else:\n",
    "        using_m = partition_link(n - m, m)\n",
    "        with_m = apply_to_all_link(lambda s: link(m, s), using_m)\n",
    "        without_m = partition_link(n, m - 1)\n",
    "        return extend_link(with_m, without_m)"
   ]
  },
  {
   "cell_type": "code",
   "execution_count": 97,
   "metadata": {},
   "outputs": [
    {
     "data": {
      "text/plain": [
       "[[4, [2, 'empty']],\n",
       " [[4, [1, [1, 'empty']]],\n",
       "  [[3, [3, 'empty']],\n",
       "   [[3, [2, [1, 'empty']]],\n",
       "    [[3, [1, [1, [1, 'empty']]]],\n",
       "     [[2, [2, [2, 'empty']]],\n",
       "      [[2, [2, [1, [1, 'empty']]]],\n",
       "       [[2, [1, [1, [1, [1, 'empty']]]]],\n",
       "        [[1, [1, [1, [1, [1, [1, 'empty']]]]]], 'empty']]]]]]]]]"
      ]
     },
     "execution_count": 97,
     "metadata": {},
     "output_type": "execute_result"
    }
   ],
   "source": [
    "partitions = partition_link(6, 4)\n",
    "partitions"
   ]
  },
  {
   "cell_type": "code",
   "execution_count": 98,
   "metadata": {},
   "outputs": [],
   "source": [
    "def print_partitions_link(n, m):\n",
    "    lists = partition_link(n, m)\n",
    "    strings = apply_to_all_link(lambda s : join_link(s, \" + \"), lists)\n",
    "    print(join_link(strings, \"\\n\"))"
   ]
  },
  {
   "cell_type": "code",
   "execution_count": 99,
   "metadata": {},
   "outputs": [
    {
     "name": "stdout",
     "output_type": "stream",
     "text": [
      "4 + 2\n",
      "4 + 1 + 1\n",
      "3 + 3\n",
      "3 + 2 + 1\n",
      "3 + 1 + 1 + 1\n",
      "2 + 2 + 2\n",
      "2 + 2 + 1 + 1\n",
      "2 + 1 + 1 + 1 + 1\n",
      "1 + 1 + 1 + 1 + 1 + 1\n"
     ]
    }
   ],
   "source": [
    "print_partitions_link(6, 4)"
   ]
  },
  {
   "cell_type": "code",
   "execution_count": null,
   "metadata": {},
   "outputs": [],
   "source": []
  }
 ],
 "metadata": {
  "kernelspec": {
   "display_name": "py312",
   "language": "python",
   "name": "python3"
  },
  "language_info": {
   "codemirror_mode": {
    "name": "ipython",
    "version": 3
   },
   "file_extension": ".py",
   "mimetype": "text/x-python",
   "name": "python",
   "nbconvert_exporter": "python",
   "pygments_lexer": "ipython3",
   "version": "3.12.2"
  }
 },
 "nbformat": 4,
 "nbformat_minor": 2
}
